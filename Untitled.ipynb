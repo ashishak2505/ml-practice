{
 "cells": [
  {
   "cell_type": "code",
   "execution_count": 1,
   "id": "655d56db-8976-4511-9210-1b93e63e5376",
   "metadata": {},
   "outputs": [
    {
     "name": "stdout",
     "output_type": "stream",
     "text": [
      "yes\n",
      "This is what you said\n",
      "Your respose id good\n"
     ]
    }
   ],
   "source": [
    "str = 'yes'\n",
    "if str == 'yes':\n",
    "    print('yes')\n",
    "    print('This is what you said')\n",
    "    print('Your respose id good')"
   ]
  },
  {
   "cell_type": "code",
   "execution_count": 3,
   "id": "4705a0d7-864e-4be6-9689-1922b2bde795",
   "metadata": {},
   "outputs": [
    {
     "name": "stdin",
     "output_type": "stream",
     "text": [
      "enter a number  15\n"
     ]
    },
    {
     "name": "stdout",
     "output_type": "stream",
     "text": [
      "15 is odd\n"
     ]
    }
   ],
   "source": [
    "x = int(input(\"enter a number \"))\n",
    "if x % 2 == 0:\n",
    "    print(x, \"is evern\")\n",
    "else:\n",
    "    print(x, \"is odd\")"
   ]
  },
  {
   "cell_type": "code",
   "execution_count": 5,
   "id": "1263d027-ded0-49ca-af6e-01a4416e967e",
   "metadata": {},
   "outputs": [
    {
     "name": "stdin",
     "output_type": "stream",
     "text": [
      "enter a number 15\n"
     ]
    },
    {
     "name": "stdout",
     "output_type": "stream",
     "text": [
      "you typed 15 which is below or above 10\n"
     ]
    }
   ],
   "source": [
    "x= int(input('enter a number'))\n",
    "if x>=1 and x<=10:\n",
    "    print('you typed', x, 'which is between 1 and 10')\n",
    "else:\n",
    "    print('you typed', x, 'which is below or above 10')"
   ]
  },
  {
   "cell_type": "code",
   "execution_count": 7,
   "id": "fb446750-f440-403b-b77d-c085e68bd67a",
   "metadata": {},
   "outputs": [
    {
     "name": "stdin",
     "output_type": "stream",
     "text": [
      " enter a number -6\n"
     ]
    },
    {
     "name": "stdout",
     "output_type": "stream",
     "text": [
      "-6 is less than zero\n"
     ]
    }
   ],
   "source": [
    "num = int(input(' enter a number'))\n",
    "if num == 0:\n",
    "    print(num, ' is zero')\n",
    "elif num > 0 :\n",
    "    print(num, ' is greater than zero')\n",
    "else:\n",
    "    print(num, 'is less than zero')"
   ]
  },
  {
   "cell_type": "code",
   "execution_count": 9,
   "id": "e52748d9-bbec-44da-a8eb-b257e9b18841",
   "metadata": {},
   "outputs": [
    {
     "name": "stdout",
     "output_type": "stream",
     "text": [
      "h\n",
      "e\n",
      "l\n",
      "l\n",
      "o\n"
     ]
    }
   ],
   "source": [
    "str = 'hello'\n",
    "for ch in str:\n",
    "    print(ch)"
   ]
  },
  {
   "cell_type": "code",
   "execution_count": 23,
   "id": "eee2d3e8-38cb-433c-b266-b68207c60376",
   "metadata": {},
   "outputs": [
    {
     "name": "stdout",
     "output_type": "stream",
     "text": [
      "0->h\n",
      "1->e\n",
      "2->l\n",
      "3->l\n",
      "4->o\n"
     ]
    }
   ],
   "source": [
    "str = 'hello'\n",
    "n = len(str)\n",
    "for i in range(n):\n",
    "    print(i, end= \"->\")\n",
    "    print(str[i])"
   ]
  },
  {
   "cell_type": "code",
   "execution_count": 25,
   "id": "56fc4b8f-fce0-4772-a084-ca60248dc393",
   "metadata": {},
   "outputs": [
    {
     "name": "stdout",
     "output_type": "stream",
     "text": [
      "10\n",
      "20\n",
      "30\n",
      "40\n",
      "50\n",
      "sum =  150\n"
     ]
    }
   ],
   "source": [
    "list = [10,20,30,40,50]\n",
    "sum = 0\n",
    "for i in list:\n",
    "    print(i)\n",
    "    sum += i\n",
    "print('sum = ', sum)"
   ]
  },
  {
   "cell_type": "code",
   "execution_count": 27,
   "id": "454bcb79-8535-4236-92ef-a0a02198ca0f",
   "metadata": {},
   "outputs": [
    {
     "name": "stdout",
     "output_type": "stream",
     "text": [
      "0->10\n",
      "1->20\n",
      "2->30\n",
      "3->40\n",
      "4->50\n",
      "sum =  150\n"
     ]
    }
   ],
   "source": [
    "list = [10,20,30,40,50]\n",
    "sum = 0 \n",
    "i = 0\n",
    "while i < len(list):\n",
    "    print(i, end= \"->\")\n",
    "    print(list[i])\n",
    "    sum+= list[i]\n",
    "    i+=1\n",
    "print(\"sum = \", sum)"
   ]
  },
  {
   "cell_type": "code",
   "execution_count": 5,
   "id": "3e66dc71-356f-40dd-a7b9-864c95658952",
   "metadata": {},
   "outputs": [
    {
     "name": "stdout",
     "output_type": "stream",
     "text": [
      "                                         * \n",
      "                                        * * \n",
      "                                       * * * \n",
      "                                      * * * * \n",
      "                                     * * * * * \n",
      "                                    * * * * * * \n",
      "                                   * * * * * * * \n",
      "                                  * * * * * * * * \n",
      "                                 * * * * * * * * * \n",
      "                                * * * * * * * * * * \n"
     ]
    }
   ],
   "source": [
    "n = 40\n",
    "for i in range(1, 11):\n",
    "    print(\" \"*n, end=\" \")\n",
    "    print(\"* \"*(i))\n",
    "    n-=1"
   ]
  },
  {
   "cell_type": "code",
   "execution_count": 11,
   "id": "c9081981-8a98-432a-a2c1-d07cc17af75e",
   "metadata": {},
   "outputs": [
    {
     "name": "stdout",
     "output_type": "stream",
     "text": [
      "                                       * \n",
      "                                      * * \n",
      "                                     * * * \n",
      "                                    * * * * \n",
      "                                   * * * * * \n",
      "                                  * * * * * * \n",
      "                                 * * * * * * * \n",
      "                                * * * * * * * * \n",
      "                               * * * * * * * * * \n",
      "                              * * * * * * * * * * \n"
     ]
    }
   ],
   "source": [
    "n=40\n",
    "for i in range(1,11):\n",
    "    print(\" \"* (n-i) + \"* \"*(i))"
   ]
  },
  {
   "cell_type": "code",
   "execution_count": 13,
   "id": "58e90b25-a9ee-4c57-a902-2a0c129a6a31",
   "metadata": {},
   "outputs": [
    {
     "name": "stdout",
     "output_type": "stream",
     "text": [
      "       1       2       3       4       5       6       7       8       9      10\n",
      "       2       4       6       8      10      12      14      16      18      20\n",
      "       3       6       9      12      15      18      21      24      27      30\n",
      "       4       8      12      16      20      24      28      32      36      40\n",
      "       5      10      15      20      25      30      35      40      45      50\n",
      "       6      12      18      24      30      36      42      48      54      60\n",
      "       7      14      21      28      35      42      49      56      63      70\n",
      "       8      16      24      32      40      48      56      64      72      80\n",
      "       9      18      27      36      45      54      63      72      81      90\n",
      "      10      20      30      40      50      60      70      80      90     100\n"
     ]
    }
   ],
   "source": [
    "for x in range(1,11):\n",
    "    for y in range(1,11):\n",
    "        print(\"{:8}\".format(x*y), end= \"\")\n",
    "    print()"
   ]
  },
  {
   "cell_type": "code",
   "execution_count": 17,
   "id": "cdbd5ed8-7ff3-4a00-bb6b-d6bc806fb1e2",
   "metadata": {},
   "outputs": [
    {
     "data": {
      "text/plain": [
       "5"
      ]
     },
     "execution_count": 17,
     "metadata": {},
     "output_type": "execute_result"
    }
   ],
   "source": [
    "class solution(object):\n",
    "    def buystocks(self, price):\n",
    "        buy_price= price[0]\n",
    "        profit = 0\n",
    "        for p in price[1:]:\n",
    "            if buy_price > p:\n",
    "                buy_price = p\n",
    "            profit = max(profit, p-buy_price)\n",
    "        return profit\n",
    "\n",
    "\n",
    "s= solution()\n",
    "s.buystocks([7,1,5,3,6,4])"
   ]
  },
  {
   "cell_type": "code",
   "execution_count": null,
   "id": "84e9caa6-7292-49d9-8d40-c686e870dafe",
   "metadata": {},
   "outputs": [],
   "source": []
  }
 ],
 "metadata": {
  "kernelspec": {
   "display_name": "Python 3 (ipykernel)",
   "language": "python",
   "name": "python3"
  },
  "language_info": {
   "codemirror_mode": {
    "name": "ipython",
    "version": 3
   },
   "file_extension": ".py",
   "mimetype": "text/x-python",
   "name": "python",
   "nbconvert_exporter": "python",
   "pygments_lexer": "ipython3",
   "version": "3.12.7"
  }
 },
 "nbformat": 4,
 "nbformat_minor": 5
}
