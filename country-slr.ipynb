{
 "cells": [
  {
   "cell_type": "code",
   "execution_count": 1,
   "id": "cfa1cdc0-19b9-439e-82d5-e423528bb393",
   "metadata": {},
   "outputs": [],
   "source": [
    "import pandas as pd\n",
    "from sklearn.model_selection import train_test_split\n",
    "import statsmodels.api as sm"
   ]
  },
  {
   "cell_type": "code",
   "execution_count": 2,
   "id": "db6a12e4-ddf1-416a-8d17-5b4a1399eb28",
   "metadata": {},
   "outputs": [],
   "source": [
    "country_df = pd.read_csv(r'C:\\Users\\Ashish\\Desktop\\machine learning\\country.csv')"
   ]
  },
  {
   "cell_type": "code",
   "execution_count": 3,
   "id": "05127f1e-bd2e-489c-a41f-8c6c2b6011b8",
   "metadata": {},
   "outputs": [
    {
     "data": {
      "text/html": [
       "<div>\n",
       "<style scoped>\n",
       "    .dataframe tbody tr th:only-of-type {\n",
       "        vertical-align: middle;\n",
       "    }\n",
       "\n",
       "    .dataframe tbody tr th {\n",
       "        vertical-align: top;\n",
       "    }\n",
       "\n",
       "    .dataframe thead th {\n",
       "        text-align: right;\n",
       "    }\n",
       "</style>\n",
       "<table border=\"1\" class=\"dataframe\">\n",
       "  <thead>\n",
       "    <tr style=\"text-align: right;\">\n",
       "      <th></th>\n",
       "      <th>Country</th>\n",
       "      <th>Corruption_Index</th>\n",
       "      <th>Gini_Index</th>\n",
       "    </tr>\n",
       "  </thead>\n",
       "  <tbody>\n",
       "    <tr>\n",
       "      <th>0</th>\n",
       "      <td>Hong Kong</td>\n",
       "      <td>77</td>\n",
       "      <td>53.7</td>\n",
       "    </tr>\n",
       "    <tr>\n",
       "      <th>1</th>\n",
       "      <td>South Korea</td>\n",
       "      <td>53</td>\n",
       "      <td>30.2</td>\n",
       "    </tr>\n",
       "    <tr>\n",
       "      <th>2</th>\n",
       "      <td>China</td>\n",
       "      <td>40</td>\n",
       "      <td>46.2</td>\n",
       "    </tr>\n",
       "    <tr>\n",
       "      <th>3</th>\n",
       "      <td>Italy</td>\n",
       "      <td>47</td>\n",
       "      <td>32.7</td>\n",
       "    </tr>\n",
       "    <tr>\n",
       "      <th>4</th>\n",
       "      <td>Mongolia</td>\n",
       "      <td>38</td>\n",
       "      <td>36.5</td>\n",
       "    </tr>\n",
       "  </tbody>\n",
       "</table>\n",
       "</div>"
      ],
      "text/plain": [
       "       Country  Corruption_Index  Gini_Index\n",
       "0    Hong Kong                77        53.7\n",
       "1  South Korea                53        30.2\n",
       "2        China                40        46.2\n",
       "3        Italy                47        32.7\n",
       "4     Mongolia                38        36.5"
      ]
     },
     "execution_count": 3,
     "metadata": {},
     "output_type": "execute_result"
    }
   ],
   "source": [
    "country_df.head()"
   ]
  },
  {
   "cell_type": "code",
   "execution_count": 4,
   "id": "f2d9e174-b639-4fc0-9327-855f96f20f18",
   "metadata": {
    "scrolled": true
   },
   "outputs": [
    {
     "name": "stdout",
     "output_type": "stream",
     "text": [
      "<class 'pandas.core.frame.DataFrame'>\n",
      "RangeIndex: 20 entries, 0 to 19\n",
      "Data columns (total 3 columns):\n",
      " #   Column            Non-Null Count  Dtype  \n",
      "---  ------            --------------  -----  \n",
      " 0   Country           20 non-null     object \n",
      " 1   Corruption_Index  20 non-null     int64  \n",
      " 2   Gini_Index        20 non-null     float64\n",
      "dtypes: float64(1), int64(1), object(1)\n",
      "memory usage: 612.0+ bytes\n"
     ]
    }
   ],
   "source": [
    "country_df.info()"
   ]
  },
  {
   "cell_type": "code",
   "execution_count": 5,
   "id": "b7062493-6cb3-4061-8dfa-210ea4888571",
   "metadata": {},
   "outputs": [],
   "source": [
    "X = sm.add_constant(country_df['Gini_Index'])\n",
    "Y = country_df['Corruption_Index']"
   ]
  },
  {
   "cell_type": "code",
   "execution_count": 6,
   "id": "0a2c2ec5-1652-4f48-b570-2facfafbea6d",
   "metadata": {},
   "outputs": [
    {
     "data": {
      "text/html": [
       "<div>\n",
       "<style scoped>\n",
       "    .dataframe tbody tr th:only-of-type {\n",
       "        vertical-align: middle;\n",
       "    }\n",
       "\n",
       "    .dataframe tbody tr th {\n",
       "        vertical-align: top;\n",
       "    }\n",
       "\n",
       "    .dataframe thead th {\n",
       "        text-align: right;\n",
       "    }\n",
       "</style>\n",
       "<table border=\"1\" class=\"dataframe\">\n",
       "  <thead>\n",
       "    <tr style=\"text-align: right;\">\n",
       "      <th></th>\n",
       "      <th>const</th>\n",
       "      <th>Gini_Index</th>\n",
       "    </tr>\n",
       "  </thead>\n",
       "  <tbody>\n",
       "    <tr>\n",
       "      <th>0</th>\n",
       "      <td>1.0</td>\n",
       "      <td>53.7</td>\n",
       "    </tr>\n",
       "    <tr>\n",
       "      <th>1</th>\n",
       "      <td>1.0</td>\n",
       "      <td>30.2</td>\n",
       "    </tr>\n",
       "    <tr>\n",
       "      <th>2</th>\n",
       "      <td>1.0</td>\n",
       "      <td>46.2</td>\n",
       "    </tr>\n",
       "    <tr>\n",
       "      <th>3</th>\n",
       "      <td>1.0</td>\n",
       "      <td>32.7</td>\n",
       "    </tr>\n",
       "    <tr>\n",
       "      <th>4</th>\n",
       "      <td>1.0</td>\n",
       "      <td>36.5</td>\n",
       "    </tr>\n",
       "  </tbody>\n",
       "</table>\n",
       "</div>"
      ],
      "text/plain": [
       "   const  Gini_Index\n",
       "0    1.0        53.7\n",
       "1    1.0        30.2\n",
       "2    1.0        46.2\n",
       "3    1.0        32.7\n",
       "4    1.0        36.5"
      ]
     },
     "execution_count": 6,
     "metadata": {},
     "output_type": "execute_result"
    }
   ],
   "source": [
    "X.head()"
   ]
  },
  {
   "cell_type": "code",
   "execution_count": 7,
   "id": "908cefc1-8ade-4ffd-ac19-55579d64f63d",
   "metadata": {},
   "outputs": [],
   "source": [
    "train_X, test_X, train_Y, test_Y = train_test_split(X, Y, train_size  =0.8, random_state = 42)"
   ]
  },
  {
   "cell_type": "code",
   "execution_count": 8,
   "id": "f6b463cf-127c-4651-b601-943108b40967",
   "metadata": {},
   "outputs": [],
   "source": [
    "country_df_lm = sm.OLS(train_Y, train_X).fit()"
   ]
  },
  {
   "cell_type": "code",
   "execution_count": 9,
   "id": "4fe871a2-29f1-4696-a55d-8eac824060b2",
   "metadata": {},
   "outputs": [
    {
     "name": "stdout",
     "output_type": "stream",
     "text": [
      "const         148.375633\n",
      "Gini_Index     -2.561817\n",
      "dtype: float64\n"
     ]
    }
   ],
   "source": [
    "print(country_df_lm.params)"
   ]
  },
  {
   "cell_type": "code",
   "execution_count": 10,
   "id": "04ee5509-e71a-4932-b755-1e73c86c80cb",
   "metadata": {},
   "outputs": [
    {
     "name": "stderr",
     "output_type": "stream",
     "text": [
      "C:\\Users\\Ashish\\anaconda3\\Lib\\site-packages\\scipy\\stats\\_axis_nan_policy.py:531: UserWarning: kurtosistest only valid for n>=20 ... continuing anyway, n=16\n",
      "  res = hypotest_fun_out(*samples, **kwds)\n"
     ]
    },
    {
     "data": {
      "text/html": [
       "<table class=\"simpletable\">\n",
       "<caption>OLS Regression Results</caption>\n",
       "<tr>\n",
       "  <th>Dep. Variable:</th>    <td>Corruption_Index</td> <th>  R-squared:         </th> <td>   0.521</td>\n",
       "</tr>\n",
       "<tr>\n",
       "  <th>Model:</th>                   <td>OLS</td>       <th>  Adj. R-squared:    </th> <td>   0.487</td>\n",
       "</tr>\n",
       "<tr>\n",
       "  <th>Method:</th>             <td>Least Squares</td>  <th>  F-statistic:       </th> <td>   15.24</td>\n",
       "</tr>\n",
       "<tr>\n",
       "  <th>Date:</th>             <td>Fri, 03 Jan 2025</td> <th>  Prob (F-statistic):</th>  <td>0.00159</td>\n",
       "</tr>\n",
       "<tr>\n",
       "  <th>Time:</th>                 <td>11:28:59</td>     <th>  Log-Likelihood:    </th> <td> -65.555</td>\n",
       "</tr>\n",
       "<tr>\n",
       "  <th>No. Observations:</th>      <td>    16</td>      <th>  AIC:               </th> <td>   135.1</td>\n",
       "</tr>\n",
       "<tr>\n",
       "  <th>Df Residuals:</th>          <td>    14</td>      <th>  BIC:               </th> <td>   136.7</td>\n",
       "</tr>\n",
       "<tr>\n",
       "  <th>Df Model:</th>              <td>     1</td>      <th>                     </th>     <td> </td>   \n",
       "</tr>\n",
       "<tr>\n",
       "  <th>Covariance Type:</th>      <td>nonrobust</td>    <th>                     </th>     <td> </td>   \n",
       "</tr>\n",
       "</table>\n",
       "<table class=\"simpletable\">\n",
       "<tr>\n",
       "       <td></td>         <th>coef</th>     <th>std err</th>      <th>t</th>      <th>P>|t|</th>  <th>[0.025</th>    <th>0.975]</th>  \n",
       "</tr>\n",
       "<tr>\n",
       "  <th>const</th>      <td>  148.3756</td> <td>   22.245</td> <td>    6.670</td> <td> 0.000</td> <td>  100.664</td> <td>  196.087</td>\n",
       "</tr>\n",
       "<tr>\n",
       "  <th>Gini_Index</th> <td>   -2.5618</td> <td>    0.656</td> <td>   -3.904</td> <td> 0.002</td> <td>   -3.969</td> <td>   -1.154</td>\n",
       "</tr>\n",
       "</table>\n",
       "<table class=\"simpletable\">\n",
       "<tr>\n",
       "  <th>Omnibus:</th>       <td> 1.320</td> <th>  Durbin-Watson:     </th> <td>   1.674</td>\n",
       "</tr>\n",
       "<tr>\n",
       "  <th>Prob(Omnibus):</th> <td> 0.517</td> <th>  Jarque-Bera (JB):  </th> <td>   1.000</td>\n",
       "</tr>\n",
       "<tr>\n",
       "  <th>Skew:</th>          <td> 0.369</td> <th>  Prob(JB):          </th> <td>   0.606</td>\n",
       "</tr>\n",
       "<tr>\n",
       "  <th>Kurtosis:</th>      <td> 2.023</td> <th>  Cond. No.          </th> <td>    194.</td>\n",
       "</tr>\n",
       "</table><br/><br/>Notes:<br/>[1] Standard Errors assume that the covariance matrix of the errors is correctly specified."
      ],
      "text/latex": [
       "\\begin{center}\n",
       "\\begin{tabular}{lclc}\n",
       "\\toprule\n",
       "\\textbf{Dep. Variable:}    & Corruption\\_Index & \\textbf{  R-squared:         } &     0.521   \\\\\n",
       "\\textbf{Model:}            &        OLS        & \\textbf{  Adj. R-squared:    } &     0.487   \\\\\n",
       "\\textbf{Method:}           &   Least Squares   & \\textbf{  F-statistic:       } &     15.24   \\\\\n",
       "\\textbf{Date:}             &  Fri, 03 Jan 2025 & \\textbf{  Prob (F-statistic):} &  0.00159    \\\\\n",
       "\\textbf{Time:}             &      11:28:59     & \\textbf{  Log-Likelihood:    } &   -65.555   \\\\\n",
       "\\textbf{No. Observations:} &           16      & \\textbf{  AIC:               } &     135.1   \\\\\n",
       "\\textbf{Df Residuals:}     &           14      & \\textbf{  BIC:               } &     136.7   \\\\\n",
       "\\textbf{Df Model:}         &            1      & \\textbf{                     } &             \\\\\n",
       "\\textbf{Covariance Type:}  &     nonrobust     & \\textbf{                     } &             \\\\\n",
       "\\bottomrule\n",
       "\\end{tabular}\n",
       "\\begin{tabular}{lcccccc}\n",
       "                     & \\textbf{coef} & \\textbf{std err} & \\textbf{t} & \\textbf{P$> |$t$|$} & \\textbf{[0.025} & \\textbf{0.975]}  \\\\\n",
       "\\midrule\n",
       "\\textbf{const}       &     148.3756  &       22.245     &     6.670  &         0.000        &      100.664    &      196.087     \\\\\n",
       "\\textbf{Gini\\_Index} &      -2.5618  &        0.656     &    -3.904  &         0.002        &       -3.969    &       -1.154     \\\\\n",
       "\\bottomrule\n",
       "\\end{tabular}\n",
       "\\begin{tabular}{lclc}\n",
       "\\textbf{Omnibus:}       &  1.320 & \\textbf{  Durbin-Watson:     } &    1.674  \\\\\n",
       "\\textbf{Prob(Omnibus):} &  0.517 & \\textbf{  Jarque-Bera (JB):  } &    1.000  \\\\\n",
       "\\textbf{Skew:}          &  0.369 & \\textbf{  Prob(JB):          } &    0.606  \\\\\n",
       "\\textbf{Kurtosis:}      &  2.023 & \\textbf{  Cond. No.          } &     194.  \\\\\n",
       "\\bottomrule\n",
       "\\end{tabular}\n",
       "%\\caption{OLS Regression Results}\n",
       "\\end{center}\n",
       "\n",
       "Notes: \\newline\n",
       " [1] Standard Errors assume that the covariance matrix of the errors is correctly specified."
      ],
      "text/plain": [
       "<class 'statsmodels.iolib.summary.Summary'>\n",
       "\"\"\"\n",
       "                            OLS Regression Results                            \n",
       "==============================================================================\n",
       "Dep. Variable:       Corruption_Index   R-squared:                       0.521\n",
       "Model:                            OLS   Adj. R-squared:                  0.487\n",
       "Method:                 Least Squares   F-statistic:                     15.24\n",
       "Date:                Fri, 03 Jan 2025   Prob (F-statistic):            0.00159\n",
       "Time:                        11:28:59   Log-Likelihood:                -65.555\n",
       "No. Observations:                  16   AIC:                             135.1\n",
       "Df Residuals:                      14   BIC:                             136.7\n",
       "Df Model:                           1                                         \n",
       "Covariance Type:            nonrobust                                         \n",
       "==============================================================================\n",
       "                 coef    std err          t      P>|t|      [0.025      0.975]\n",
       "------------------------------------------------------------------------------\n",
       "const        148.3756     22.245      6.670      0.000     100.664     196.087\n",
       "Gini_Index    -2.5618      0.656     -3.904      0.002      -3.969      -1.154\n",
       "==============================================================================\n",
       "Omnibus:                        1.320   Durbin-Watson:                   1.674\n",
       "Prob(Omnibus):                  0.517   Jarque-Bera (JB):                1.000\n",
       "Skew:                           0.369   Prob(JB):                        0.606\n",
       "Kurtosis:                       2.023   Cond. No.                         194.\n",
       "==============================================================================\n",
       "\n",
       "Notes:\n",
       "[1] Standard Errors assume that the covariance matrix of the errors is correctly specified.\n",
       "\"\"\""
      ]
     },
     "execution_count": 10,
     "metadata": {},
     "output_type": "execute_result"
    }
   ],
   "source": [
    "country_df_lm.summary()"
   ]
  },
  {
   "cell_type": "code",
   "execution_count": 11,
   "id": "9ed7d977-f3b1-4fd4-bddb-4cb355576bf0",
   "metadata": {},
   "outputs": [],
   "source": [
    "import matplotlib.pyplot as plt\n",
    "import seaborn as sns\n",
    "%matplotlib inline"
   ]
  },
  {
   "cell_type": "code",
   "execution_count": 12,
   "id": "3c81a274-1b03-4b7c-9455-3cd8749fcf47",
   "metadata": {},
   "outputs": [
    {
     "data": {
      "text/plain": [
       "<Figure size 800x600 with 0 Axes>"
      ]
     },
     "metadata": {},
     "output_type": "display_data"
    },
    {
     "data": {
      "image/png": "[encoded data removed]",
      "text/plain": [
       "<Figure size 640x480 with 1 Axes>"
      ]
     },
     "metadata": {},
     "output_type": "display_data"
    }
   ],
   "source": [
    "country_df_resid = country_df_lm.resid\n",
    "probplot = sm.ProbPlot(country_df_resid)\n",
    "plt.figure(figsize =(8,6))\n",
    "probplot.ppplot(line = '45')\n",
    "plt.title(\"fig- Normal p-p plot of regression standardized residauls\")\n",
    "plt.show()"
   ]
  },
  {
   "cell_type": "code",
   "execution_count": 13,
   "id": "2f9c1377-f80d-41af-a342-ea31f233e7f1",
   "metadata": {},
   "outputs": [],
   "source": [
    "def get_standardised_values(vals):\n",
    "    return (vals- vals.mean())/vals.std()"
   ]
  },
  {
   "cell_type": "code",
   "execution_count": 14,
   "id": "f1c47129-917c-43c5-a6b4-0d972e34e407",
   "metadata": {},
   "outputs": [
    {
     "data": {
      "image/png": "[encoded data removed]",
      "text/plain": [
       "<Figure size 640x480 with 1 Axes>"
      ]
     },
     "metadata": {},
     "output_type": "display_data"
    }
   ],
   "source": [
    "plt.scatter(get_standardised_values(country_df_lm.fittedvalues), get_standardised_values(country_df_resid))\n",
    "plt.title(\"fig - residual plot \")\n",
    "plt.xlabel(\"Standardized predicted values\")\n",
    "plt.ylabel(\"Standardised Residuals\")\n",
    "plt.show()"
   ]
  },
  {
   "cell_type": "code",
   "execution_count": 15,
   "id": "6cbab958-7c47-4509-88b9-ad85b92ec9b3",
   "metadata": {},
   "outputs": [],
   "source": [
    "from scipy.stats import zscore"
   ]
  },
  {
   "cell_type": "code",
   "execution_count": 16,
   "id": "05bdd872-77ea-4060-8821-3998c0a6003c",
   "metadata": {},
   "outputs": [],
   "source": [
    "country_df['z_score_gini'] = zscore(country_df.Gini_Index)"
   ]
  },
  {
   "cell_type": "code",
   "execution_count": 17,
   "id": "16f0149d-6e95-4c49-bd0e-62364cf3bc11",
   "metadata": {},
   "outputs": [
    {
     "data": {
      "text/html": [
       "<div>\n",
       "<style scoped>\n",
       "    .dataframe tbody tr th:only-of-type {\n",
       "        vertical-align: middle;\n",
       "    }\n",
       "\n",
       "    .dataframe tbody tr th {\n",
       "        vertical-align: top;\n",
       "    }\n",
       "\n",
       "    .dataframe thead th {\n",
       "        text-align: right;\n",
       "    }\n",
       "</style>\n",
       "<table border=\"1\" class=\"dataframe\">\n",
       "  <thead>\n",
       "    <tr style=\"text-align: right;\">\n",
       "      <th></th>\n",
       "      <th>Country</th>\n",
       "      <th>Corruption_Index</th>\n",
       "      <th>Gini_Index</th>\n",
       "      <th>z_score_gini</th>\n",
       "    </tr>\n",
       "  </thead>\n",
       "  <tbody>\n",
       "    <tr>\n",
       "      <th>0</th>\n",
       "      <td>Hong Kong</td>\n",
       "      <td>77</td>\n",
       "      <td>53.7</td>\n",
       "      <td>2.634213</td>\n",
       "    </tr>\n",
       "    <tr>\n",
       "      <th>1</th>\n",
       "      <td>South Korea</td>\n",
       "      <td>53</td>\n",
       "      <td>30.2</td>\n",
       "      <td>-0.630766</td>\n",
       "    </tr>\n",
       "    <tr>\n",
       "      <th>2</th>\n",
       "      <td>China</td>\n",
       "      <td>40</td>\n",
       "      <td>46.2</td>\n",
       "      <td>1.592198</td>\n",
       "    </tr>\n",
       "    <tr>\n",
       "      <th>3</th>\n",
       "      <td>Italy</td>\n",
       "      <td>47</td>\n",
       "      <td>32.7</td>\n",
       "      <td>-0.283428</td>\n",
       "    </tr>\n",
       "    <tr>\n",
       "      <th>4</th>\n",
       "      <td>Mongolia</td>\n",
       "      <td>38</td>\n",
       "      <td>36.5</td>\n",
       "      <td>0.244526</td>\n",
       "    </tr>\n",
       "  </tbody>\n",
       "</table>\n",
       "</div>"
      ],
      "text/plain": [
       "       Country  Corruption_Index  Gini_Index  z_score_gini\n",
       "0    Hong Kong                77        53.7      2.634213\n",
       "1  South Korea                53        30.2     -0.630766\n",
       "2        China                40        46.2      1.592198\n",
       "3        Italy                47        32.7     -0.283428\n",
       "4     Mongolia                38        36.5      0.244526"
      ]
     },
     "execution_count": 17,
     "metadata": {},
     "output_type": "execute_result"
    }
   ],
   "source": [
    "country_df.head()"
   ]
  },
  {
   "cell_type": "code",
   "execution_count": 19,
   "id": "7a309805-ed2b-4bf3-b240-d3524e275e15",
   "metadata": {},
   "outputs": [],
   "source": [
    "import numpy as np"
   ]
  },
  {
   "cell_type": "code",
   "execution_count": 23,
   "id": "f7aac057-4dc0-412e-9da8-0cbbcdd39fbf",
   "metadata": {},
   "outputs": [
    {
     "data": {
      "image/png": "[encoded data removed]",
      "text/plain": [
       "<Figure size 640x480 with 1 Axes>"
      ]
     },
     "metadata": {},
     "output_type": "display_data"
    }
   ],
   "source": [
    "country_influence = country_df_lm.get_influence()\n",
    "(c,p) = country_influence.cooks_distance\n",
    "plt.stem(np.arange(len(train_X)), np.round(c,3), markerfmt = \",\")\n",
    "plt.title(\"fig - cooks distance for all observations in country\")\n",
    "plt.xlabel(\"Row index\")\n",
    "plt.ylabel(\"cooks distance\")\n",
    "plt.show()"
   ]
  },
  {
   "cell_type": "code",
   "execution_count": 25,
   "id": "2cc8975f-6020-4d71-b3b9-00cd086ecda5",
   "metadata": {},
   "outputs": [],
   "source": [
    "from statsmodels.graphics.regressionplots import influence_plot"
   ]
  },
  {
   "cell_type": "code",
   "execution_count": 27,
   "id": "47886602-5390-4b74-a8b9-eaeeab8f82fa",
   "metadata": {},
   "outputs": [
    {
     "data": {
      "image/png": "[encoded data removed]",
      "text/plain": [
       "<Figure size 800x600 with 1 Axes>"
      ]
     },
     "metadata": {},
     "output_type": "display_data"
    }
   ],
   "source": [
    "fig, ax = plt.subplots(figsize =(8,6))\n",
    "influence_plot(country_df_lm, ax = ax)\n",
    "plt.title(\"fig- leverage value vs residual\")\n",
    "plt.show()"
   ]
  },
  {
   "cell_type": "code",
   "execution_count": 29,
   "id": "05bc786b-bc10-4ed6-99ff-f55f580804d2",
   "metadata": {},
   "outputs": [],
   "source": [
    "pred_y= country_df_lm.predict(test_X)"
   ]
  },
  {
   "cell_type": "code",
   "execution_count": 31,
   "id": "3353ac1a-6f95-471c-a1ea-70d526ea86f2",
   "metadata": {},
   "outputs": [
    {
     "data": {
      "text/plain": [
       "0     10.806075\n",
       "17    38.986059\n",
       "15    60.761501\n",
       "1     71.008768\n",
       "dtype: float64"
      ]
     },
     "execution_count": 31,
     "metadata": {},
     "output_type": "execute_result"
    }
   ],
   "source": [
    "pred_y"
   ]
  },
  {
   "cell_type": "code",
   "execution_count": 33,
   "id": "b2966d0b-57b6-43e4-8e65-dd898ee58d66",
   "metadata": {},
   "outputs": [],
   "source": [
    "from sklearn.metrics import r2_score, mean_squared_error"
   ]
  },
  {
   "cell_type": "code",
   "execution_count": 35,
   "id": "d865a9cc-119d-458b-9ec9-9ea8e946e5af",
   "metadata": {},
   "outputs": [
    {
     "data": {
      "text/plain": [
       "4.347394400679093"
      ]
     },
     "execution_count": 35,
     "metadata": {},
     "output_type": "execute_result"
    }
   ],
   "source": [
    "np.abs(r2_score(test_Y, pred_y))"
   ]
  },
  {
   "cell_type": "code",
   "execution_count": 37,
   "id": "ebbf5d29-b1a9-46bf-aab3-dcc9a544be0b",
   "metadata": {},
   "outputs": [
    {
     "data": {
      "text/plain": [
       "34.33803234534181"
      ]
     },
     "execution_count": 37,
     "metadata": {},
     "output_type": "execute_result"
    }
   ],
   "source": [
    "np.sqrt(mean_squared_error(test_Y, pred_y))"
   ]
  },
  {
   "cell_type": "code",
   "execution_count": 43,
   "id": "abe486a0-3a30-4d52-bc5f-f9544fb38a77",
   "metadata": {},
   "outputs": [],
   "source": [
    "from statsmodels.sandbox.regression.predstd import wls_prediction_std"
   ]
  },
  {
   "cell_type": "code",
   "execution_count": 45,
   "id": "c15049e5-a828-4f0c-b311-6666a36ca8ff",
   "metadata": {},
   "outputs": [],
   "source": [
    "_, pred_y_low, pred_y_high = wls_prediction_std(country_df_lm,test_X, alpha = 0.1)\n",
    "pred_y_df = pd.DataFrame({'Gini_Index_' : test_X['Gini_Index'], 'pred_y': pred_y, 'pred_y_left': pred_y_low, 'pred_y_high': pred_y_high})\n"
   ]
  },
  {
   "cell_type": "code",
   "execution_count": 49,
   "id": "58ce06bc-bd1f-4d14-8b2a-4f29eb4c3383",
   "metadata": {},
   "outputs": [
    {
     "data": {
      "text/html": [
       "<div>\n",
       "<style scoped>\n",
       "    .dataframe tbody tr th:only-of-type {\n",
       "        vertical-align: middle;\n",
       "    }\n",
       "\n",
       "    .dataframe tbody tr th {\n",
       "        vertical-align: top;\n",
       "    }\n",
       "\n",
       "    .dataframe thead th {\n",
       "        text-align: right;\n",
       "    }\n",
       "</style>\n",
       "<table border=\"1\" class=\"dataframe\">\n",
       "  <thead>\n",
       "    <tr style=\"text-align: right;\">\n",
       "      <th></th>\n",
       "      <th>Gini_Index_</th>\n",
       "      <th>pred_y</th>\n",
       "      <th>pred_y_left</th>\n",
       "      <th>pred_y_high</th>\n",
       "    </tr>\n",
       "  </thead>\n",
       "  <tbody>\n",
       "    <tr>\n",
       "      <th>0</th>\n",
       "      <td>53.7</td>\n",
       "      <td>10.806075</td>\n",
       "      <td>-25.942578</td>\n",
       "      <td>47.554728</td>\n",
       "    </tr>\n",
       "    <tr>\n",
       "      <th>17</th>\n",
       "      <td>42.7</td>\n",
       "      <td>38.986059</td>\n",
       "      <td>8.741681</td>\n",
       "      <td>69.230437</td>\n",
       "    </tr>\n",
       "    <tr>\n",
       "      <th>15</th>\n",
       "      <td>34.2</td>\n",
       "      <td>60.761501</td>\n",
       "      <td>32.486818</td>\n",
       "      <td>89.036185</td>\n",
       "    </tr>\n",
       "    <tr>\n",
       "      <th>1</th>\n",
       "      <td>30.2</td>\n",
       "      <td>71.008768</td>\n",
       "      <td>42.512869</td>\n",
       "      <td>99.504667</td>\n",
       "    </tr>\n",
       "  </tbody>\n",
       "</table>\n",
       "</div>"
      ],
      "text/plain": [
       "    Gini_Index_     pred_y  pred_y_left  pred_y_high\n",
       "0          53.7  10.806075   -25.942578    47.554728\n",
       "17         42.7  38.986059     8.741681    69.230437\n",
       "15         34.2  60.761501    32.486818    89.036185\n",
       "1          30.2  71.008768    42.512869    99.504667"
      ]
     },
     "execution_count": 49,
     "metadata": {},
     "output_type": "execute_result"
    }
   ],
   "source": [
    "pred_y_df.head()"
   ]
  },
  {
   "cell_type": "code",
   "execution_count": null,
   "id": "7d461234-08b6-4a84-a1c1-d30a13fd6468",
   "metadata": {},
   "outputs": [],
   "source": []
  },
  {
   "cell_type": "code",
   "execution_count": null,
   "id": "273ffc84-7c00-4912-8326-3bccc15c17e9",
   "metadata": {},
   "outputs": [],
   "source": []
  }
 ],
 "metadata": {
  "kernelspec": {
   "display_name": "Python 3 (ipykernel)",
   "language": "python",
   "name": "python3"
  },
  "language_info": {
   "codemirror_mode": {
    "name": "ipython",
    "version": 3
   },
   "file_extension": ".py",
   "mimetype": "text/x-python",
   "name": "python",
   "nbconvert_exporter": "python",
   "pygments_lexer": "ipython3",
   "version": "3.12.7"
  }
 },
 "nbformat": 4,
 "nbformat_minor": 5
}
