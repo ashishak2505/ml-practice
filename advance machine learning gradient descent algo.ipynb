{
 "cells": [
  {
   "cell_type": "code",
   "execution_count": 3,
   "id": "42305045-4128-480a-9216-e75911880b3d",
   "metadata": {},
   "outputs": [],
   "source": [
    "import pandas as pd\n",
    "import numpy as np\n",
    "import warnings\n",
    "warnings.filterwarnings('ignore')"
   ]
  },
  {
   "cell_type": "code",
   "execution_count": 5,
   "id": "8f6c8804-7fe6-4d9e-9738-a9bc8e9245e2",
   "metadata": {},
   "outputs": [],
   "source": [
    "sales_df = pd.read_csv(r'C:\\Users\\Ashish\\Desktop\\machine learning\\Advertising.csv')"
   ]
  },
  {
   "cell_type": "code",
   "execution_count": 9,
   "id": "1e701045-32e7-4afd-8717-a0856fd17840",
   "metadata": {},
   "outputs": [
    {
     "data": {
      "text/html": [
       "<div>\n",
       "<style scoped>\n",
       "    .dataframe tbody tr th:only-of-type {\n",
       "        vertical-align: middle;\n",
       "    }\n",
       "\n",
       "    .dataframe tbody tr th {\n",
       "        vertical-align: top;\n",
       "    }\n",
       "\n",
       "    .dataframe thead th {\n",
       "        text-align: right;\n",
       "    }\n",
       "</style>\n",
       "<table border=\"1\" class=\"dataframe\">\n",
       "  <thead>\n",
       "    <tr style=\"text-align: right;\">\n",
       "      <th></th>\n",
       "      <th>Unnamed: 0</th>\n",
       "      <th>TV</th>\n",
       "      <th>Radio</th>\n",
       "      <th>Newspaper</th>\n",
       "      <th>Sales</th>\n",
       "    </tr>\n",
       "  </thead>\n",
       "  <tbody>\n",
       "    <tr>\n",
       "      <th>0</th>\n",
       "      <td>1</td>\n",
       "      <td>230.1</td>\n",
       "      <td>37.8</td>\n",
       "      <td>69.2</td>\n",
       "      <td>22.1</td>\n",
       "    </tr>\n",
       "    <tr>\n",
       "      <th>1</th>\n",
       "      <td>2</td>\n",
       "      <td>44.5</td>\n",
       "      <td>39.3</td>\n",
       "      <td>45.1</td>\n",
       "      <td>10.4</td>\n",
       "    </tr>\n",
       "    <tr>\n",
       "      <th>2</th>\n",
       "      <td>3</td>\n",
       "      <td>17.2</td>\n",
       "      <td>45.9</td>\n",
       "      <td>69.3</td>\n",
       "      <td>9.3</td>\n",
       "    </tr>\n",
       "    <tr>\n",
       "      <th>3</th>\n",
       "      <td>4</td>\n",
       "      <td>151.5</td>\n",
       "      <td>41.3</td>\n",
       "      <td>58.5</td>\n",
       "      <td>18.5</td>\n",
       "    </tr>\n",
       "    <tr>\n",
       "      <th>4</th>\n",
       "      <td>5</td>\n",
       "      <td>180.8</td>\n",
       "      <td>10.8</td>\n",
       "      <td>58.4</td>\n",
       "      <td>12.9</td>\n",
       "    </tr>\n",
       "    <tr>\n",
       "      <th>5</th>\n",
       "      <td>6</td>\n",
       "      <td>8.7</td>\n",
       "      <td>48.9</td>\n",
       "      <td>75.0</td>\n",
       "      <td>7.2</td>\n",
       "    </tr>\n",
       "    <tr>\n",
       "      <th>6</th>\n",
       "      <td>7</td>\n",
       "      <td>57.5</td>\n",
       "      <td>32.8</td>\n",
       "      <td>23.5</td>\n",
       "      <td>11.8</td>\n",
       "    </tr>\n",
       "    <tr>\n",
       "      <th>7</th>\n",
       "      <td>8</td>\n",
       "      <td>120.2</td>\n",
       "      <td>19.6</td>\n",
       "      <td>11.6</td>\n",
       "      <td>13.2</td>\n",
       "    </tr>\n",
       "    <tr>\n",
       "      <th>8</th>\n",
       "      <td>9</td>\n",
       "      <td>8.6</td>\n",
       "      <td>2.1</td>\n",
       "      <td>1.0</td>\n",
       "      <td>4.8</td>\n",
       "    </tr>\n",
       "    <tr>\n",
       "      <th>9</th>\n",
       "      <td>10</td>\n",
       "      <td>199.8</td>\n",
       "      <td>2.6</td>\n",
       "      <td>21.2</td>\n",
       "      <td>10.6</td>\n",
       "    </tr>\n",
       "  </tbody>\n",
       "</table>\n",
       "</div>"
      ],
      "text/plain": [
       "   Unnamed: 0     TV  Radio  Newspaper  Sales\n",
       "0           1  230.1   37.8       69.2   22.1\n",
       "1           2   44.5   39.3       45.1   10.4\n",
       "2           3   17.2   45.9       69.3    9.3\n",
       "3           4  151.5   41.3       58.5   18.5\n",
       "4           5  180.8   10.8       58.4   12.9\n",
       "5           6    8.7   48.9       75.0    7.2\n",
       "6           7   57.5   32.8       23.5   11.8\n",
       "7           8  120.2   19.6       11.6   13.2\n",
       "8           9    8.6    2.1        1.0    4.8\n",
       "9          10  199.8    2.6       21.2   10.6"
      ]
     },
     "execution_count": 9,
     "metadata": {},
     "output_type": "execute_result"
    }
   ],
   "source": [
    "sales_df.head(10)"
   ]
  },
  {
   "cell_type": "code",
   "execution_count": 11,
   "id": "b4674e72-0472-4f5d-b3c9-6f8a5f59242f",
   "metadata": {},
   "outputs": [],
   "source": [
    "X = sales_df[['TV', 'Radio', 'Newspaper']]\n",
    "Y = sales_df['Sales']"
   ]
  },
  {
   "cell_type": "code",
   "execution_count": 13,
   "id": "0181c012-5482-418b-9a4e-9ed95af9dd24",
   "metadata": {},
   "outputs": [],
   "source": [
    "Y = np.array((Y-Y.mean())/Y.std())\n",
    "X = X.apply(lambda rec: (rec - rec.mean())/ rec.std(), axis = 0)"
   ]
  },
  {
   "cell_type": "code",
   "execution_count": 19,
   "id": "0bff173a-3fc7-44ec-b903-190920edb4d6",
   "metadata": {},
   "outputs": [],
   "source": [
    "#method 1 :- Random inititalize of the bias and weight\n",
    "import random\n",
    "def initialise(dim):\n",
    "    np.random.seed(seed = 42)\n",
    "    random.seed(42)\n",
    "    b = random.random()\n",
    "    w = np.random.rand(dim)\n",
    "    return b,w"
   ]
  },
  {
   "cell_type": "code",
   "execution_count": 21,
   "id": "142494ad-f98a-4797-afe5-edeab8b3a0c8",
   "metadata": {},
   "outputs": [
    {
     "name": "stdout",
     "output_type": "stream",
     "text": [
      "Bias : 0.6394267984578837 weights : [0.37454012 0.95071431 0.73199394]\n"
     ]
    }
   ],
   "source": [
    "b,w = initialise(3)\n",
    "print(\"Bias :\", b, \"weights :\", w)"
   ]
  },
  {
   "cell_type": "code",
   "execution_count": 31,
   "id": "ceb7e619-ee9b-4825-93bb-5fd8da4d49fd",
   "metadata": {},
   "outputs": [],
   "source": [
    "# method -2 predict valuses from the bias and wights\n",
    "def predict_Y(b, w,X):\n",
    "    return b + np.matmul(X, w)"
   ]
  },
  {
   "cell_type": "code",
   "execution_count": 35,
   "id": "269fc2b4-c2bc-47f1-87b7-abc5daf38caa",
   "metadata": {},
   "outputs": [
    {
     "data": {
      "text/plain": [
       "0    3.231496\n",
       "1    1.707849\n",
       "2    2.824761\n",
       "3    2.753090\n",
       "4    0.924486\n",
       "5    3.171365\n",
       "6    0.622344\n",
       "7   -0.349354\n",
       "8   -2.313095\n",
       "9   -0.768030\n",
       "dtype: float64"
      ]
     },
     "execution_count": 35,
     "metadata": {},
     "output_type": "execute_result"
    }
   ],
   "source": [
    "b,w = initialise(3)\n",
    "Y_hat = predict_Y(b,w,X)\n",
    "Y_hat[0:10]"
   ]
  },
  {
   "cell_type": "code",
   "execution_count": 37,
   "id": "b74d3a9a-cac0-4796-bf6e-417f97ff4433",
   "metadata": {},
   "outputs": [],
   "source": [
    "# method -3 calculate the cost function -MSE\n",
    "import math\n",
    "def get_cost(Y, Y_hat):\n",
    "    Y_resid = Y- Y_hat\n",
    "    return np.sum(np.matmul(Y_resid.T, Y_resid))/ len(Y_resid)"
   ]
  },
  {
   "cell_type": "code",
   "execution_count": 39,
   "id": "ca1be9b6-e289-474a-a3d6-5b404f5be077",
   "metadata": {},
   "outputs": [
    {
     "data": {
      "text/plain": [
       "1.53031001985059"
      ]
     },
     "execution_count": 39,
     "metadata": {},
     "output_type": "execute_result"
    }
   ],
   "source": [
    "b, w = initialise(3)\n",
    "Y_hat = predict_Y(b, w, X)\n",
    "get_cost(Y, Y_hat)"
   ]
  },
  {
   "cell_type": "code",
   "execution_count": 43,
   "id": "7d0097cd-0ae3-4cf3-acf9-07bedc77959e",
   "metadata": {},
   "outputs": [],
   "source": [
    "# methods- 2 update the Bias and weights\n",
    "def update_beta(X, Y, Y_hat, b_0, w_0, learning_rate):\n",
    "    db = (np.sum(Y_hat- Y)*2)/len(Y)\n",
    "    dw = (np.dot((Y_hat - Y), x)*2)/ len(Y)\n",
    "    b_1 = b_0 - kearning_rate * db\n",
    "    w_1 = b_0 - learning_rate * db\n",
    "    return b_1, w_1"
   ]
  },
  {
   "cell_type": "code",
   "execution_count": 45,
   "id": "efdfa1b8-d7b3-44a6-8520-35e34eebc669",
   "metadata": {},
   "outputs": [
    {
     "name": "stdout",
     "output_type": "stream",
     "text": [
      "After Initailize - Bias:  0.6394267984578837 wieghts :  [0.37454012 0.95071431 0.73199394]\n"
     ]
    },
    {
     "ename": "NameError",
     "evalue": "name 'x' is not defined",
     "output_type": "error",
     "traceback": [
      "\u001b[1;31m---------------------------------------------------------------------------\u001b[0m",
      "\u001b[1;31mNameError\u001b[0m                                 Traceback (most recent call last)",
      "Cell \u001b[1;32mIn[45], line 4\u001b[0m\n\u001b[0;32m      2\u001b[0m \u001b[38;5;28mprint\u001b[39m(\u001b[38;5;124m\"\u001b[39m\u001b[38;5;124mAfter Initailize - Bias: \u001b[39m\u001b[38;5;124m\"\u001b[39m, b, \u001b[38;5;124m\"\u001b[39m\u001b[38;5;124mwieghts : \u001b[39m\u001b[38;5;124m\"\u001b[39m, w)\n\u001b[0;32m      3\u001b[0m Y_hat \u001b[38;5;241m=\u001b[39m predict_Y(b, w, X)\n\u001b[1;32m----> 4\u001b[0m b, w \u001b[38;5;241m=\u001b[39m update_beta(X, Y, Y_hat, b, w, \u001b[38;5;241m0.01\u001b[39m)\n\u001b[0;32m      5\u001b[0m \u001b[38;5;28mprint\u001b[39m(\u001b[38;5;124m\"\u001b[39m\u001b[38;5;124m after first update - bias :\u001b[39m\u001b[38;5;124m\"\u001b[39m, b, \u001b[38;5;124m\"\u001b[39m\u001b[38;5;124mweights : \u001b[39m\u001b[38;5;124m\"\u001b[39m, w)\n",
      "Cell \u001b[1;32mIn[43], line 4\u001b[0m, in \u001b[0;36mupdate_beta\u001b[1;34m(X, Y, Y_hat, b_0, w_0, learning_rate)\u001b[0m\n\u001b[0;32m      2\u001b[0m \u001b[38;5;28;01mdef\u001b[39;00m \u001b[38;5;21mupdate_beta\u001b[39m(X, Y, Y_hat, b_0, w_0, learning_rate):\n\u001b[0;32m      3\u001b[0m     db \u001b[38;5;241m=\u001b[39m (np\u001b[38;5;241m.\u001b[39msum(Y_hat\u001b[38;5;241m-\u001b[39m Y)\u001b[38;5;241m*\u001b[39m\u001b[38;5;241m2\u001b[39m)\u001b[38;5;241m/\u001b[39m\u001b[38;5;28mlen\u001b[39m(Y)\n\u001b[1;32m----> 4\u001b[0m     dw \u001b[38;5;241m=\u001b[39m (np\u001b[38;5;241m.\u001b[39mdot((Y_hat \u001b[38;5;241m-\u001b[39m Y), x)\u001b[38;5;241m*\u001b[39m\u001b[38;5;241m2\u001b[39m)\u001b[38;5;241m/\u001b[39m \u001b[38;5;28mlen\u001b[39m(Y)\n\u001b[0;32m      5\u001b[0m     b_1 \u001b[38;5;241m=\u001b[39m b_0 \u001b[38;5;241m-\u001b[39m kearning_rate \u001b[38;5;241m*\u001b[39m db\n\u001b[0;32m      6\u001b[0m     w_1 \u001b[38;5;241m=\u001b[39m b_0 \u001b[38;5;241m-\u001b[39m learning_rate \u001b[38;5;241m*\u001b[39m db\n",
      "\u001b[1;31mNameError\u001b[0m: name 'x' is not defined"
     ]
    }
   ],
   "source": [
    "b, w = initialise(3)\n",
    "print(\"After Initailize - Bias: \", b, \"wieghts : \", w)\n",
    "Y_hat = predict_Y(b, w, X)\n",
    "b, w = update_beta(X, Y, Y_hat, b, w, 0.01)\n",
    "print(\" after first update - bias :\", b, \"weights : \", w)"
   ]
  },
  {
   "cell_type": "code",
   "execution_count": null,
   "id": "970d1dd6-ed54-4033-893d-f4b478d0b683",
   "metadata": {},
   "outputs": [],
   "source": []
  }
 ],
 "metadata": {
  "kernelspec": {
   "display_name": "Python 3 (ipykernel)",
   "language": "python",
   "name": "python3"
  },
  "language_info": {
   "codemirror_mode": {
    "name": "ipython",
    "version": 3
   },
   "file_extension": ".py",
   "mimetype": "text/x-python",
   "name": "python",
   "nbconvert_exporter": "python",
   "pygments_lexer": "ipython3",
   "version": "3.12.7"
  }
 },
 "nbformat": 4,
 "nbformat_minor": 5
}
