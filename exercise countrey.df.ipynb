{
 "cells": [
  {
   "cell_type": "code",
   "execution_count": 30,
   "id": "909b29f3-e8cc-4320-9932-af7bedcc743c",
   "metadata": {},
   "outputs": [],
   "source": [
    "import pandas as pd\n",
    "import numpy as np\n",
    "from sklearn.model_selection import train_test_split\n",
    "import statsmodels.api as  sm\n",
    "import matplotlib.pyplot as plt\n",
    "import seaborn as sn\n",
    "%matplotlib inline"
   ]
  },
  {
   "cell_type": "code",
   "execution_count": 2,
   "id": "f76c9d7b-9863-4cb7-81cf-5734ab2f2d06",
   "metadata": {},
   "outputs": [],
   "source": [
    "country_df= pd.read_csv(r'C:\\Users\\Ashish\\Desktop\\machine learning\\country.csv')"
   ]
  },
  {
   "cell_type": "code",
   "execution_count": 3,
   "id": "a7737668-4795-4f90-90b0-fa09d3eca8ff",
   "metadata": {},
   "outputs": [
    {
     "data": {
      "text/html": [
       "<div>\n",
       "<style scoped>\n",
       "    .dataframe tbody tr th:only-of-type {\n",
       "        vertical-align: middle;\n",
       "    }\n",
       "\n",
       "    .dataframe tbody tr th {\n",
       "        vertical-align: top;\n",
       "    }\n",
       "\n",
       "    .dataframe thead th {\n",
       "        text-align: right;\n",
       "    }\n",
       "</style>\n",
       "<table border=\"1\" class=\"dataframe\">\n",
       "  <thead>\n",
       "    <tr style=\"text-align: right;\">\n",
       "      <th></th>\n",
       "      <th>Country</th>\n",
       "      <th>Corruption_Index</th>\n",
       "      <th>Gini_Index</th>\n",
       "    </tr>\n",
       "  </thead>\n",
       "  <tbody>\n",
       "    <tr>\n",
       "      <th>0</th>\n",
       "      <td>Hong Kong</td>\n",
       "      <td>77</td>\n",
       "      <td>53.7</td>\n",
       "    </tr>\n",
       "    <tr>\n",
       "      <th>1</th>\n",
       "      <td>South Korea</td>\n",
       "      <td>53</td>\n",
       "      <td>30.2</td>\n",
       "    </tr>\n",
       "    <tr>\n",
       "      <th>2</th>\n",
       "      <td>China</td>\n",
       "      <td>40</td>\n",
       "      <td>46.2</td>\n",
       "    </tr>\n",
       "    <tr>\n",
       "      <th>3</th>\n",
       "      <td>Italy</td>\n",
       "      <td>47</td>\n",
       "      <td>32.7</td>\n",
       "    </tr>\n",
       "    <tr>\n",
       "      <th>4</th>\n",
       "      <td>Mongolia</td>\n",
       "      <td>38</td>\n",
       "      <td>36.5</td>\n",
       "    </tr>\n",
       "  </tbody>\n",
       "</table>\n",
       "</div>"
      ],
      "text/plain": [
       "       Country  Corruption_Index  Gini_Index\n",
       "0    Hong Kong                77        53.7\n",
       "1  South Korea                53        30.2\n",
       "2        China                40        46.2\n",
       "3        Italy                47        32.7\n",
       "4     Mongolia                38        36.5"
      ]
     },
     "execution_count": 3,
     "metadata": {},
     "output_type": "execute_result"
    }
   ],
   "source": [
    "country_df.head(5)"
   ]
  },
  {
   "cell_type": "code",
   "execution_count": 4,
   "id": "62bae634-5926-43f0-be6f-910b9ae36e3f",
   "metadata": {},
   "outputs": [],
   "source": [
    "X= sm.add_constant(country_df['Gini_Index'])\n",
    "Y = country_df['Corruption_Index']"
   ]
  },
  {
   "cell_type": "code",
   "execution_count": 5,
   "id": "a40b1cd0-b13b-4a06-b2c5-34102ec9602d",
   "metadata": {},
   "outputs": [],
   "source": [
    "train_X, test_X, train_Y, test_Y = train_test_split(X,Y, train_size= 0.8, random_state= 42)"
   ]
  },
  {
   "cell_type": "code",
   "execution_count": 6,
   "id": "ff12edd1-dddf-4808-9e6a-c8d13ed36b1b",
   "metadata": {},
   "outputs": [],
   "source": [
    "country_df_lm= sm.OLS(train_Y, train_X).fit()"
   ]
  },
  {
   "cell_type": "code",
   "execution_count": 7,
   "id": "45d0cf0c-8866-4266-8a2f-a9ad7b4e8265",
   "metadata": {},
   "outputs": [
    {
     "name": "stdout",
     "output_type": "stream",
     "text": [
      "const         148.375633\n",
      "Gini_Index     -2.561817\n",
      "dtype: float64\n"
     ]
    }
   ],
   "source": [
    "print(country_df_lm.params)"
   ]
  },
  {
   "cell_type": "code",
   "execution_count": 16,
   "id": "25d1ae4e-26d4-4f03-951f-419c46736454",
   "metadata": {},
   "outputs": [
    {
     "name": "stderr",
     "output_type": "stream",
     "text": [
      "C:\\Users\\Ashish\\anaconda3\\Lib\\site-packages\\scipy\\stats\\_axis_nan_policy.py:531: UserWarning: kurtosistest only valid for n>=20 ... continuing anyway, n=16\n",
      "  res = hypotest_fun_out(*samples, **kwds)\n"
     ]
    },
    {
     "data": {
      "text/html": [
       "<table class=\"simpletable\">\n",
       "<tr>\n",
       "        <td>Model:</td>               <td>OLS</td>         <td>Adj. R-squared:</td>     <td>0.487</td> \n",
       "</tr>\n",
       "<tr>\n",
       "  <td>Dependent Variable:</td> <td>Corruption_Index</td>        <td>AIC:</td>         <td>135.1104</td>\n",
       "</tr>\n",
       "<tr>\n",
       "         <td>Date:</td>        <td>2024-12-28 12:01</td>        <td>BIC:</td>         <td>136.6556</td>\n",
       "</tr>\n",
       "<tr>\n",
       "   <td>No. Observations:</td>         <td>16</td>          <td>Log-Likelihood:</td>    <td>-65.555</td>\n",
       "</tr>\n",
       "<tr>\n",
       "       <td>Df Model:</td>              <td>1</td>           <td>F-statistic:</td>       <td>15.24</td> \n",
       "</tr>\n",
       "<tr>\n",
       "     <td>Df Residuals:</td>           <td>14</td>        <td>Prob (F-statistic):</td>  <td>0.00159</td>\n",
       "</tr>\n",
       "<tr>\n",
       "      <td>R-squared:</td>            <td>0.521</td>            <td>Scale:</td>         <td>242.27</td> \n",
       "</tr>\n",
       "</table>\n",
       "<table class=\"simpletable\">\n",
       "<tr>\n",
       "       <td></td>        <th>Coef.</th>  <th>Std.Err.</th>    <th>t</th>     <th>P>|t|</th>  <th>[0.025</th>   <th>0.975]</th> \n",
       "</tr>\n",
       "<tr>\n",
       "  <th>const</th>      <td>148.3756</td>  <td>22.2453</td> <td>6.6700</td>  <td>0.0000</td> <td>100.6641</td> <td>196.0872</td>\n",
       "</tr>\n",
       "<tr>\n",
       "  <th>Gini_Index</th>  <td>-2.5618</td>  <td>0.6563</td>  <td>-3.9037</td> <td>0.0016</td>  <td>-3.9693</td>  <td>-1.1543</td>\n",
       "</tr>\n",
       "</table>\n",
       "<table class=\"simpletable\">\n",
       "<tr>\n",
       "     <td>Omnibus:</td>    <td>1.320</td>  <td>Durbin-Watson:</td>   <td>1.674</td>\n",
       "</tr>\n",
       "<tr>\n",
       "  <td>Prob(Omnibus):</td> <td>0.517</td> <td>Jarque-Bera (JB):</td> <td>1.000</td>\n",
       "</tr>\n",
       "<tr>\n",
       "       <td>Skew:</td>     <td>0.369</td>     <td>Prob(JB):</td>     <td>0.606</td>\n",
       "</tr>\n",
       "<tr>\n",
       "     <td>Kurtosis:</td>   <td>2.023</td>  <td>Condition No.:</td>    <td>194</td> \n",
       "</tr>\n",
       "</table><br/>\n",
       "Notes:<br/>\n",
       "[1] Standard Errors assume that the covariance matrix of the errors is correctly specified."
      ],
      "text/latex": [
       "\\begin{table}\n",
       "\\caption{Results: Ordinary least squares}\n",
       "\\label{}\n",
       "\\begin{center}\n",
       "\\begin{tabular}{llll}\n",
       "\\hline\n",
       "Model:              & OLS               & Adj. R-squared:     & 0.487     \\\\\n",
       "Dependent Variable: & Corruption\\_Index & AIC:                & 135.1104  \\\\\n",
       "Date:               & 2024-12-28 12:01  & BIC:                & 136.6556  \\\\\n",
       "No. Observations:   & 16                & Log-Likelihood:     & -65.555   \\\\\n",
       "Df Model:           & 1                 & F-statistic:        & 15.24     \\\\\n",
       "Df Residuals:       & 14                & Prob (F-statistic): & 0.00159   \\\\\n",
       "R-squared:          & 0.521             & Scale:              & 242.27    \\\\\n",
       "\\hline\n",
       "\\end{tabular}\n",
       "\\end{center}\n",
       "\n",
       "\\begin{center}\n",
       "\\begin{tabular}{lrrrrrr}\n",
       "\\hline\n",
       "            &    Coef. & Std.Err. &       t & P$> |$t$|$ &   [0.025 &   0.975]  \\\\\n",
       "\\hline\n",
       "const       & 148.3756 &  22.2453 &  6.6700 &      0.0000 & 100.6641 & 196.0872  \\\\\n",
       "Gini\\_Index &  -2.5618 &   0.6563 & -3.9037 &      0.0016 &  -3.9693 &  -1.1543  \\\\\n",
       "\\hline\n",
       "\\end{tabular}\n",
       "\\end{center}\n",
       "\n",
       "\\begin{center}\n",
       "\\begin{tabular}{llll}\n",
       "\\hline\n",
       "Omnibus:       & 1.320 & Durbin-Watson:    & 1.674  \\\\\n",
       "Prob(Omnibus): & 0.517 & Jarque-Bera (JB): & 1.000  \\\\\n",
       "Skew:          & 0.369 & Prob(JB):         & 0.606  \\\\\n",
       "Kurtosis:      & 2.023 & Condition No.:    & 194    \\\\\n",
       "\\hline\n",
       "\\end{tabular}\n",
       "\\end{center}\n",
       "\\end{table}\n",
       "\\bigskip\n",
       "Notes: \\newline \n",
       "[1] Standard Errors assume that the covariance matrix of the errors is correctly specified."
      ],
      "text/plain": [
       "<class 'statsmodels.iolib.summary2.Summary'>\n",
       "\"\"\"\n",
       "                 Results: Ordinary least squares\n",
       "=================================================================\n",
       "Model:              OLS              Adj. R-squared:     0.487   \n",
       "Dependent Variable: Corruption_Index AIC:                135.1104\n",
       "Date:               2024-12-28 12:01 BIC:                136.6556\n",
       "No. Observations:   16               Log-Likelihood:     -65.555 \n",
       "Df Model:           1                F-statistic:        15.24   \n",
       "Df Residuals:       14               Prob (F-statistic): 0.00159 \n",
       "R-squared:          0.521            Scale:              242.27  \n",
       "-----------------------------------------------------------------\n",
       "                Coef.   Std.Err.    t    P>|t|   [0.025   0.975] \n",
       "-----------------------------------------------------------------\n",
       "const          148.3756  22.2453  6.6700 0.0000 100.6641 196.0872\n",
       "Gini_Index      -2.5618   0.6563 -3.9037 0.0016  -3.9693  -1.1543\n",
       "-----------------------------------------------------------------\n",
       "Omnibus:              1.320        Durbin-Watson:           1.674\n",
       "Prob(Omnibus):        0.517        Jarque-Bera (JB):        1.000\n",
       "Skew:                 0.369        Prob(JB):                0.606\n",
       "Kurtosis:             2.023        Condition No.:           194  \n",
       "=================================================================\n",
       "Notes:\n",
       "[1] Standard Errors assume that the covariance matrix of the\n",
       "errors is correctly specified.\n",
       "\"\"\""
      ]
     },
     "execution_count": 16,
     "metadata": {},
     "output_type": "execute_result"
    }
   ],
   "source": [
    "country_df_lm.summary2()"
   ]
  },
  {
   "cell_type": "code",
   "execution_count": 35,
   "id": "be3e8f4d-0445-45ba-9288-2a64b7e0fd7c",
   "metadata": {},
   "outputs": [
    {
     "data": {
      "text/plain": [
       "<Figure size 1000x600 with 0 Axes>"
      ]
     },
     "metadata": {},
     "output_type": "display_data"
    },
    {
     "data": {
      "image/png": "[encoded data removed]",
      "text/plain": [
       "<Figure size 640x480 with 1 Axes>"
      ]
     },
     "metadata": {},
     "output_type": "display_data"
    }
   ],
   "source": [
    "country_df_resid = country_df_lm.resid\n",
    "probplot = sm.ProbPlot(country_df_resid)\n",
    "plt.figure(figsize = (10,6))\n",
    "probplot.ppplot(line = '45')\n",
    "plt.title(\" Normal pp plot of regression standarddized residual\")\n",
    "plt.show()"
   ]
  },
  {
   "cell_type": "code",
   "execution_count": 37,
   "id": "d6f817cf-e744-4b2a-a282-832ba3fd1b99",
   "metadata": {},
   "outputs": [],
   "source": [
    "def get_standardized_value(vals):\n",
    "    return (vals - vals.mean())/vals.std()"
   ]
  },
  {
   "cell_type": "code",
   "execution_count": 39,
   "id": "4ced98d9-cfed-4769-8c88-ab7751b4b2e4",
   "metadata": {},
   "outputs": [
    {
     "data": {
      "image/png": "[encoded data removed]",
      "text/plain": [
       "<Figure size 640x480 with 1 Axes>"
      ]
     },
     "metadata": {},
     "output_type": "display_data"
    }
   ],
   "source": [
    "plt.scatter(get_standardized_value(country_df_lm.fittedvalues), get_standardized_value(country_df_resid))\n",
    "plt.title(\"fig - residual plot: Country's  courruption \")\n",
    "plt.xlabel(\"Standardized predicted values\")\n",
    "plt.ylabel(\"Standardized residuals\")\n",
    "plt.show()"
   ]
  },
  {
   "cell_type": "code",
   "execution_count": 41,
   "id": "01c9d734-284a-43e2-a780-4f283039ef74",
   "metadata": {},
   "outputs": [],
   "source": [
    "from scipy.stats import zscore"
   ]
  },
  {
   "cell_type": "code",
   "execution_count": null,
   "id": "1cdacd25-037b-48ab-86b5-d312b2415991",
   "metadata": {},
   "outputs": [],
   "source": []
  }
 ],
 "metadata": {
  "kernelspec": {
   "display_name": "Python 3 (ipykernel)",
   "language": "python",
   "name": "python3"
  },
  "language_info": {
   "codemirror_mode": {
    "name": "ipython",
    "version": 3
   },
   "file_extension": ".py",
   "mimetype": "text/x-python",
   "name": "python",
   "nbconvert_exporter": "python",
   "pygments_lexer": "ipython3",
   "version": "3.12.7"
  }
 },
 "nbformat": 4,
 "nbformat_minor": 5
}
